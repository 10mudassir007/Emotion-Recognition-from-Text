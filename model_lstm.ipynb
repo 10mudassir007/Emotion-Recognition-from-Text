{
 "cells": [
  {
   "cell_type": "markdown",
   "id": "c286f809-ff8b-45af-8051-de7eaca45572",
   "metadata": {},
   "source": [
    "# Emotion Recognizer"
   ]
  },
  {
   "cell_type": "markdown",
   "id": "b71dc51f-b246-4287-a0e4-737fc00a47e4",
   "metadata": {},
   "source": [
    "## Importing libraries"
   ]
  },
  {
   "cell_type": "code",
   "execution_count": 18,
   "id": "eacc03a3-448c-4e85-8f2b-b05a2bd6f585",
   "metadata": {},
   "outputs": [],
   "source": [
    "import numpy as np\n",
    "import tensorflow as tf\n",
    "from tensorflow.keras.preprocessing.text import Tokenizer\n",
    "from tensorflow.keras.preprocessing.sequence import pad_sequences\n",
    "from tensorflow.keras.models import Sequential\n",
    "from tensorflow.keras.layers import Dense,LSTM,Bidirectional,Flatten,Embedding\n",
    "from keras.utils import to_categorical\n",
    "import nltk\n",
    "from nltk.corpus import stopwords\n",
    "from nltk.tokenize import word_tokenize"
   ]
  },
  {
   "cell_type": "markdown",
   "id": "7bd533fd-8f90-48b1-860e-8a7ad76578e9",
   "metadata": {},
   "source": [
    "## Loading data"
   ]
  },
  {
   "cell_type": "code",
   "execution_count": 3,
   "id": "865e35a9-d39d-4efe-bf7d-f8f16eb89a08",
   "metadata": {},
   "outputs": [],
   "source": [
    "train_data = open(r\"train.txt\").readlines()\n",
    "texts = []\n",
    "labels = []\n",
    "\n",
    "for i in train_data:\n",
    "    j = i.split(\";\")\n",
    "    texts.append(j[0])\n",
    "    labels.append(j[1].rstrip(\"\\n\"))"
   ]
  },
  {
   "cell_type": "markdown",
   "id": "cf68486b-40f2-460d-a1bd-99657687a588",
   "metadata": {},
   "source": [
    "## Encoding the labels"
   ]
  },
  {
   "cell_type": "code",
   "execution_count": 4,
   "id": "6f2e2178-46e9-4973-971f-ba993fd50f2b",
   "metadata": {},
   "outputs": [
    {
     "data": {
      "text/plain": [
       "array([[0., 0., 0., 0., 1., 0.],\n",
       "       [0., 0., 0., 0., 1., 0.],\n",
       "       [1., 0., 0., 0., 0., 0.],\n",
       "       ...,\n",
       "       [0., 0., 1., 0., 0., 0.],\n",
       "       [1., 0., 0., 0., 0., 0.],\n",
       "       [0., 0., 0., 0., 1., 0.]])"
      ]
     },
     "execution_count": 4,
     "metadata": {},
     "output_type": "execute_result"
    }
   ],
   "source": [
    "from sklearn.preprocessing import LabelEncoder\n",
    "encoder = LabelEncoder()\n",
    "labels = encoder.fit_transform(labels)\n",
    "labels = to_categorical(labels,num_classes=6)\n",
    "labels"
   ]
  },
  {
   "cell_type": "markdown",
   "id": "904eec20-f517-4848-8d88-29304ed4ee97",
   "metadata": {},
   "source": [
    "## Removing Stopwords"
   ]
  },
  {
   "cell_type": "code",
   "execution_count": 33,
   "id": "bb31df6b-ff64-4d5f-958f-10a8eafb656f",
   "metadata": {},
   "outputs": [],
   "source": [
    "def remove_stopwords(text):\n",
    "    stop_words = set(stopwords.words('english'))\n",
    "    words = word_tokenize(text)\n",
    "    filtered_words = [word for word in words if word.lower() not in stop_words]\n",
    "    return ' '.join(filtered_words)\n",
    "cleaned_texts = np.array([remove_stopwords(text) for text in texts])"
   ]
  },
  {
   "cell_type": "markdown",
   "id": "b221c6d4-8b50-4510-b6ce-2d6a4aa80581",
   "metadata": {},
   "source": [
    "## Setting Hyperparameters for Tokenizer and Padding"
   ]
  },
  {
   "cell_type": "code",
   "execution_count": 82,
   "id": "7d72a62f-9ec5-4578-9f1e-41d70474ca83",
   "metadata": {},
   "outputs": [
    {
     "data": {
      "text/plain": [
       "(15062, 35)"
      ]
     },
     "execution_count": 82,
     "metadata": {},
     "output_type": "execute_result"
    }
   ],
   "source": [
    "num_words = len(set(np.hstack(np.array([x.split() for x in cleaned_texts],dtype=object))))\n",
    "maxlen = max([len(x.split()) for x in cleaned_texts])\n",
    "num_words,maxlen"
   ]
  },
  {
   "cell_type": "markdown",
   "id": "1dcf74d0-a4ac-4850-a212-3fa00967285a",
   "metadata": {},
   "source": [
    "## Tokenization and Padding"
   ]
  },
  {
   "cell_type": "code",
   "execution_count": 83,
   "id": "f062da72-ef79-414d-a23c-85cf2250e60f",
   "metadata": {},
   "outputs": [],
   "source": [
    "tokenizer = Tokenizer(num_words=num_words)\n",
    "tokenizer.fit_on_texts(texts)\n",
    "sequences = tokenizer.texts_to_sequences(texts)"
   ]
  },
  {
   "cell_type": "code",
   "execution_count": 84,
   "id": "f3b9ce50-0e21-4309-9b22-370a734efafc",
   "metadata": {},
   "outputs": [
    {
     "data": {
      "text/plain": [
       "(16000, 35)"
      ]
     },
     "execution_count": 84,
     "metadata": {},
     "output_type": "execute_result"
    }
   ],
   "source": [
    "data = pad_sequences(sequences,maxlen=maxlen)\n",
    "data.shape"
   ]
  },
  {
   "cell_type": "markdown",
   "id": "9c700339-fa75-4f1d-8c0c-169123c08fa0",
   "metadata": {},
   "source": [
    "## Building the single-layered LSTM network"
   ]
  },
  {
   "cell_type": "code",
   "execution_count": 86,
   "id": "b5e5b262-fdc5-45b0-bafe-96e495db5c0f",
   "metadata": {},
   "outputs": [],
   "source": [
    "model = Sequential([Embedding(input_dim=num_words,output_dim=100),\n",
    "                  LSTM(64,input_shape=(maxlen,100)),\n",
    "                  Dense(6,activation='softmax')])\n",
    "model.compile(optimizer='adam',loss='categorical_crossentropy',metrics=['accuracy'])"
   ]
  },
  {
   "cell_type": "markdown",
   "id": "2f6792ef-c995-42a1-92dc-da8a92602e8c",
   "metadata": {},
   "source": [
    "## Fitting the model with data"
   ]
  },
  {
   "cell_type": "code",
   "execution_count": 96,
   "id": "a531a103-1c4c-45d8-aad3-8308370aec38",
   "metadata": {},
   "outputs": [
    {
     "name": "stdout",
     "output_type": "stream",
     "text": [
      "Epoch 1/8\n",
      "\u001b[1m500/500\u001b[0m \u001b[32m━━━━━━━━━━━━━━━━━━━━\u001b[0m\u001b[37m\u001b[0m \u001b[1m18s\u001b[0m 36ms/step - accuracy: 0.9926 - loss: 0.0211 - val_accuracy: 0.9060 - val_loss: 0.3759\n",
      "Epoch 2/8\n",
      "\u001b[1m500/500\u001b[0m \u001b[32m━━━━━━━━━━━━━━━━━━━━\u001b[0m\u001b[37m\u001b[0m \u001b[1m18s\u001b[0m 36ms/step - accuracy: 0.9943 - loss: 0.0182 - val_accuracy: 0.9090 - val_loss: 0.3647\n",
      "Epoch 3/8\n",
      "\u001b[1m500/500\u001b[0m \u001b[32m━━━━━━━━━━━━━━━━━━━━\u001b[0m\u001b[37m\u001b[0m \u001b[1m19s\u001b[0m 38ms/step - accuracy: 0.9945 - loss: 0.0134 - val_accuracy: 0.9070 - val_loss: 0.4093\n",
      "Epoch 4/8\n",
      "\u001b[1m500/500\u001b[0m \u001b[32m━━━━━━━━━━━━━━━━━━━━\u001b[0m\u001b[37m\u001b[0m \u001b[1m20s\u001b[0m 36ms/step - accuracy: 0.9945 - loss: 0.0145 - val_accuracy: 0.9015 - val_loss: 0.4396\n",
      "Epoch 5/8\n",
      "\u001b[1m500/500\u001b[0m \u001b[32m━━━━━━━━━━━━━━━━━━━━\u001b[0m\u001b[37m\u001b[0m \u001b[1m18s\u001b[0m 37ms/step - accuracy: 0.9936 - loss: 0.0207 - val_accuracy: 0.9075 - val_loss: 0.3942\n",
      "Epoch 6/8\n",
      "\u001b[1m500/500\u001b[0m \u001b[32m━━━━━━━━━━━━━━━━━━━━\u001b[0m\u001b[37m\u001b[0m \u001b[1m20s\u001b[0m 36ms/step - accuracy: 0.9957 - loss: 0.0125 - val_accuracy: 0.9065 - val_loss: 0.4229\n",
      "Epoch 7/8\n",
      "\u001b[1m500/500\u001b[0m \u001b[32m━━━━━━━━━━━━━━━━━━━━\u001b[0m\u001b[37m\u001b[0m \u001b[1m18s\u001b[0m 36ms/step - accuracy: 0.9955 - loss: 0.0105 - val_accuracy: 0.9085 - val_loss: 0.4407\n",
      "Epoch 8/8\n",
      "\u001b[1m500/500\u001b[0m \u001b[32m━━━━━━━━━━━━━━━━━━━━\u001b[0m\u001b[37m\u001b[0m \u001b[1m18s\u001b[0m 37ms/step - accuracy: 0.9966 - loss: 0.0083 - val_accuracy: 0.9045 - val_loss: 0.4536\n"
     ]
    }
   ],
   "source": [
    "history = model.fit(data,labels,epochs=8,validation_data=(test_data,test_labels))"
   ]
  },
  {
   "cell_type": "markdown",
   "id": "1513a8f1-fa58-423a-ad03-a5d1acf37a52",
   "metadata": {},
   "source": [
    "## Evaluating the model"
   ]
  },
  {
   "cell_type": "code",
   "execution_count": 88,
   "id": "f71eebe4-a32b-440e-ad5e-a1de187b9d89",
   "metadata": {},
   "outputs": [],
   "source": [
    "test_data = open(r\"val.txt\")\n",
    "test_texts = []\n",
    "test_labels = []\n",
    "for i in test_data:\n",
    "    j = i.split(\";\")\n",
    "    test_texts.append(j[0])\n",
    "    test_labels.append(j[1].rstrip(\"\\n\"))\n",
    "test_data.close()\n",
    "test_labels = encoder.transform(test_labels)\n",
    "test_labels = to_categorical(test_labels,num_classes=6)\n",
    "test_sequences = tokenizer.texts_to_sequences(test_texts)\n",
    "test_data = pad_sequences(test_sequences,maxlen=maxlen)"
   ]
  },
  {
   "cell_type": "code",
   "execution_count": 97,
   "id": "2926eb59-512a-4de8-914d-28b4083adea3",
   "metadata": {},
   "outputs": [
    {
     "name": "stdout",
     "output_type": "stream",
     "text": [
      "\u001b[1m63/63\u001b[0m \u001b[32m━━━━━━━━━━━━━━━━━━━━\u001b[0m\u001b[37m\u001b[0m \u001b[1m0s\u001b[0m 4ms/step - accuracy: 0.9131 - loss: 0.3980\n",
      "Loss: 0.4536\n",
      "Accuracy: 0.9045\n"
     ]
    }
   ],
   "source": [
    "loss,accuracy = model.evaluate(test_data,test_labels)\n",
    "print(\"Loss:\",round(loss,4))\n",
    "print(\"Accuracy:\",round(accuracy,4))"
   ]
  },
  {
   "cell_type": "code",
   "execution_count": 90,
   "id": "f57a585f-a096-47b2-9294-99bf222348e8",
   "metadata": {
    "scrolled": true
   },
   "outputs": [
    {
     "data": {
      "text/plain": [
       "<Axes: title={'center': 'Model Accuracy'}, xlabel='Epoch', ylabel='Accuracy'>"
      ]
     },
     "execution_count": 90,
     "metadata": {},
     "output_type": "execute_result"
    },
    {
     "data": {
      "image/png": "[encoded data removed]",
      "text/plain": [
       "<Figure size 1000x600 with 1 Axes>"
      ]
     },
     "metadata": {},
     "output_type": "display_data"
    },
    {
     "data": {
      "image/png": "[encoded data removed]",
      "text/plain": [
       "<Figure size 1000x600 with 1 Axes>"
      ]
     },
     "metadata": {},
     "output_type": "display_data"
    }
   ],
   "source": [
    "import pandas as pd\n",
    "\n",
    "df_metrics = pd.DataFrame(history.history)\n",
    "df_acc = df_metrics[['accuracy']]\n",
    "df_loss = df_metrics[['loss']]\n",
    "df_loss.plot(title='Model Loss',figsize=(10,6),xlabel='Epoch',ylabel='Loss')\n",
    "df_acc.plot(title='Model Accuracy',figsize=(10,6),xlabel='Epoch',ylabel='Accuracy',color='orange')"
   ]
  },
  {
   "cell_type": "markdown",
   "id": "d9cef6d2-20cf-42b7-86ed-251b5be7ad95",
   "metadata": {},
   "source": [
    "## Manual Testing"
   ]
  },
  {
   "cell_type": "code",
   "execution_count": 92,
   "id": "5e1e9282-367b-463b-b0bd-a3964549865c",
   "metadata": {},
   "outputs": [
    {
     "data": {
      "text/plain": [
       "(1, 35)"
      ]
     },
     "execution_count": 92,
     "metadata": {},
     "output_type": "execute_result"
    }
   ],
   "source": [
    "text = [\"Just watched the sunset, feeling incredibly blessed and thankful for this beautiful life! 🌅✨ #Grateful #Blessed #Sunset\"]\n",
    "text_seq = tokenizer.texts_to_sequences(np.array(text))\n",
    "text_pad = pad_sequences(text_seq,maxlen=maxlen)\n",
    "text_pad.shape"
   ]
  },
  {
   "cell_type": "code",
   "execution_count": 93,
   "id": "9be0949e-d0c3-4208-b75d-bfc9477b3725",
   "metadata": {},
   "outputs": [
    {
     "name": "stdout",
     "output_type": "stream",
     "text": [
      "\u001b[1m1/1\u001b[0m \u001b[32m━━━━━━━━━━━━━━━━━━━━\u001b[0m\u001b[37m\u001b[0m \u001b[1m0s\u001b[0m 243ms/step\n"
     ]
    }
   ],
   "source": [
    "import numpy as np\n",
    "predictions = model.predict(text_pad)\n",
    "predicted = np.argmax(predictions)"
   ]
  },
  {
   "cell_type": "code",
   "execution_count": 95,
   "id": "ae4cf497-9dd4-4a27-abcb-d6e206e5a065",
   "metadata": {},
   "outputs": [
    {
     "name": "stdout",
     "output_type": "stream",
     "text": [
      "Joy\n"
     ]
    }
   ],
   "source": [
    "if predicted == 0:\n",
    "    print(\"Anger\")\n",
    "elif predicted == 1:\n",
    "    print(\"Fear\")\n",
    "elif predicted == 2:\n",
    "    print(\"Joy\")\n",
    "elif predicted == 3:\n",
    "    print(\"Love\")\n",
    "elif predicted == 4:\n",
    "    print(\"Sadness\")\n",
    "elif predicted == 5:\n",
    "    print(\"Surprise,\")"
   ]
  }
 ],
 "metadata": {
  "kernelspec": {
   "display_name": "Python 3 (ipykernel)",
   "language": "python",
   "name": "python3"
  },
  "language_info": {
   "codemirror_mode": {
    "name": "ipython",
    "version": 3
   },
   "file_extension": ".py",
   "mimetype": "text/x-python",
   "name": "python",
   "nbconvert_exporter": "python",
   "pygments_lexer": "ipython3",
   "version": "3.11.9"
  }
 },
 "nbformat": 4,
 "nbformat_minor": 5
}
