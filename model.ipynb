{
 "cells": [
  {
   "cell_type": "markdown",
   "id": "c286f809-ff8b-45af-8051-de7eaca45572",
   "metadata": {},
   "source": [
    "# Emotion Recognizer"
   ]
  },
  {
   "cell_type": "markdown",
   "id": "b71dc51f-b246-4287-a0e4-737fc00a47e4",
   "metadata": {},
   "source": [
    "## Importing libraries"
   ]
  },
  {
   "cell_type": "code",
   "execution_count": null,
   "id": "eacc03a3-448c-4e85-8f2b-b05a2bd6f585",
   "metadata": {},
   "outputs": [],
   "source": [
    "import tensorflow as tf\n",
    "from tensorflow.keras.preprocessing.text import Tokenizer\n",
    "from tensorflow.keras.preprocessing.sequence import pad_sequences\n",
    "from tensorflow.keras.models import Sequential\n",
    "from tensorflow.keras.layers import Dense,LSTM,Bidirectional,Flatten,Embedding\n",
    "from keras.utils import to_categorical"
   ]
  },
  {
   "cell_type": "markdown",
   "id": "7bd533fd-8f90-48b1-860e-8a7ad76578e9",
   "metadata": {},
   "source": [
    "## Loading data"
   ]
  },
  {
   "cell_type": "code",
   "execution_count": 3,
   "id": "865e35a9-d39d-4efe-bf7d-f8f16eb89a08",
   "metadata": {},
   "outputs": [],
   "source": [
    "train_data = open(r\"train.txt\").readlines()\n",
    "texts = []\n",
    "labels = []\n",
    "\n",
    "for i in train_data:\n",
    "    j = i.split(\";\")\n",
    "    texts.append(j[0])\n",
    "    labels.append(j[1].rstrip(\"\\n\"))"
   ]
  },
  {
   "cell_type": "markdown",
   "id": "cf68486b-40f2-460d-a1bd-99657687a588",
   "metadata": {},
   "source": [
    "## Encoding the labels"
   ]
  },
  {
   "cell_type": "code",
   "execution_count": 4,
   "id": "6f2e2178-46e9-4973-971f-ba993fd50f2b",
   "metadata": {},
   "outputs": [
    {
     "data": {
      "text/plain": [
       "array([[0., 0., 0., 0., 1., 0.],\n",
       "       [0., 0., 0., 0., 1., 0.],\n",
       "       [1., 0., 0., 0., 0., 0.],\n",
       "       ...,\n",
       "       [0., 0., 1., 0., 0., 0.],\n",
       "       [1., 0., 0., 0., 0., 0.],\n",
       "       [0., 0., 0., 0., 1., 0.]])"
      ]
     },
     "execution_count": 4,
     "metadata": {},
     "output_type": "execute_result"
    }
   ],
   "source": [
    "from sklearn.preprocessing import LabelEncoder\n",
    "encoder = LabelEncoder()\n",
    "labels = encoder.fit_transform(labels)\n",
    "labels = to_categorical(labels,num_classes=6)\n",
    "labels"
   ]
  },
  {
   "cell_type": "markdown",
   "id": "1dcf74d0-a4ac-4850-a212-3fa00967285a",
   "metadata": {},
   "source": [
    "## Tokenization and Padding"
   ]
  },
  {
   "cell_type": "code",
   "execution_count": 5,
   "id": "f062da72-ef79-414d-a23c-85cf2250e60f",
   "metadata": {},
   "outputs": [],
   "source": [
    "tokenizer = Tokenizer(num_words=25000)\n",
    "tokenizer.fit_on_texts(texts)\n",
    "sequences = tokenizer.texts_to_sequences(texts)"
   ]
  },
  {
   "cell_type": "code",
   "execution_count": 6,
   "id": "f3b9ce50-0e21-4309-9b22-370a734efafc",
   "metadata": {},
   "outputs": [
    {
     "data": {
      "text/plain": [
       "array([[   0,    0,    0,    0,    0,    0,    0,    0,    0,    0,    0,\n",
       "           0,    0,    0,    0,    0,    0,    0,    0,    0,    0,    0,\n",
       "           0,    0,    0,    0,    0,    0,    1,  138,    2,  678],\n",
       "       [   0,    0,    0,    0,    0,    0,    0,    0,    0,    0,    0,\n",
       "           1,   39,  100,   59,    7,   14,  493,    4,   14, 3495,  552,\n",
       "          31,   59,   60,  127,  147,   75, 1479,    3,   21, 1254],\n",
       "       [   0,    0,    0,    0,    0,    0,    0,    0,    0,    0,    0,\n",
       "           0,    0,    0,    0,    0,    0,    0,    0,    0,    0,    0,\n",
       "          16, 3059,    6, 1148,    4,  285,    1,    2,  494,  437],\n",
       "       [   0,    0,    0,    0,    0,    0,    0,    0,    0,    0,    0,\n",
       "           0,    0,    0,    1,   23,  164,    7,  664,   26,    5, 4157,\n",
       "           1,   58,   46,    8,   12,   21,   71,   29,    5, 3496],\n",
       "       [   0,    0,    0,    0,    0,    0,    0,    0,    0,    0,    0,\n",
       "           0,    0,    0,    0,    0,    0,    0,    0,    0,    0,    0,\n",
       "           0,    0,    0,    0,    0,    0,    1,   23,    7, 1064]])"
      ]
     },
     "execution_count": 6,
     "metadata": {},
     "output_type": "execute_result"
    }
   ],
   "source": [
    "data = pad_sequences(sequences,maxlen=32)\n",
    "data[:5]"
   ]
  },
  {
   "cell_type": "markdown",
   "id": "9c700339-fa75-4f1d-8c0c-169123c08fa0",
   "metadata": {},
   "source": [
    "## Building the single-layered LSTM network"
   ]
  },
  {
   "cell_type": "code",
   "execution_count": 112,
   "id": "b5e5b262-fdc5-45b0-bafe-96e495db5c0f",
   "metadata": {},
   "outputs": [
    {
     "name": "stderr",
     "output_type": "stream",
     "text": [
      "C:\\Users\\mudda\\AppData\\Local\\Programs\\Python\\Python311\\Lib\\site-packages\\keras\\src\\layers\\rnn\\rnn.py:204: UserWarning: Do not pass an `input_shape`/`input_dim` argument to a layer. When using Sequential models, prefer using an `Input(shape)` object as the first layer in the model instead.\n",
      "  super().__init__(**kwargs)\n"
     ]
    }
   ],
   "source": [
    "model = Sequential([Embedding(input_dim=25000,output_dim=100),\n",
    "                  LSTM(64,input_shape=(32,100)),\n",
    "                  Dense(6,activation='softmax')])\n",
    "model.compile(optimizer='adam',loss='categorical_crossentropy',metrics=['accuracy'])"
   ]
  },
  {
   "cell_type": "markdown",
   "id": "2f6792ef-c995-42a1-92dc-da8a92602e8c",
   "metadata": {},
   "source": [
    "## Fitting the model with data"
   ]
  },
  {
   "cell_type": "code",
   "execution_count": 8,
   "id": "a531a103-1c4c-45d8-aad3-8308370aec38",
   "metadata": {},
   "outputs": [
    {
     "name": "stdout",
     "output_type": "stream",
     "text": [
      "Epoch 1/8\n",
      "\u001b[1m500/500\u001b[0m \u001b[32m━━━━━━━━━━━━━━━━━━━━\u001b[0m\u001b[37m\u001b[0m \u001b[1m42s\u001b[0m 67ms/step - accuracy: 0.4233 - loss: 1.4490\n",
      "Epoch 2/8\n",
      "\u001b[1m500/500\u001b[0m \u001b[32m━━━━━━━━━━━━━━━━━━━━\u001b[0m\u001b[37m\u001b[0m \u001b[1m35s\u001b[0m 69ms/step - accuracy: 0.9014 - loss: 0.3040\n",
      "Epoch 3/8\n",
      "\u001b[1m500/500\u001b[0m \u001b[32m━━━━━━━━━━━━━━━━━━━━\u001b[0m\u001b[37m\u001b[0m \u001b[1m34s\u001b[0m 68ms/step - accuracy: 0.9607 - loss: 0.1261\n",
      "Epoch 4/8\n",
      "\u001b[1m500/500\u001b[0m \u001b[32m━━━━━━━━━━━━━━━━━━━━\u001b[0m\u001b[37m\u001b[0m \u001b[1m32s\u001b[0m 64ms/step - accuracy: 0.9743 - loss: 0.0758\n",
      "Epoch 5/8\n",
      "\u001b[1m500/500\u001b[0m \u001b[32m━━━━━━━━━━━━━━━━━━━━\u001b[0m\u001b[37m\u001b[0m \u001b[1m36s\u001b[0m 72ms/step - accuracy: 0.9843 - loss: 0.0470\n",
      "Epoch 6/8\n",
      "\u001b[1m500/500\u001b[0m \u001b[32m━━━━━━━━━━━━━━━━━━━━\u001b[0m\u001b[37m\u001b[0m \u001b[1m36s\u001b[0m 72ms/step - accuracy: 0.9872 - loss: 0.0378\n",
      "Epoch 7/8\n",
      "\u001b[1m500/500\u001b[0m \u001b[32m━━━━━━━━━━━━━━━━━━━━\u001b[0m\u001b[37m\u001b[0m \u001b[1m35s\u001b[0m 69ms/step - accuracy: 0.9900 - loss: 0.0270\n",
      "Epoch 8/8\n",
      "\u001b[1m500/500\u001b[0m \u001b[32m━━━━━━━━━━━━━━━━━━━━\u001b[0m\u001b[37m\u001b[0m \u001b[1m36s\u001b[0m 73ms/step - accuracy: 0.9898 - loss: 0.0307\n"
     ]
    }
   ],
   "source": [
    "history = model.fit(data,labels,epochs=8)"
   ]
  },
  {
   "cell_type": "markdown",
   "id": "1513a8f1-fa58-423a-ad03-a5d1acf37a52",
   "metadata": {},
   "source": [
    "## Evaluating the model"
   ]
  },
  {
   "cell_type": "code",
   "execution_count": 9,
   "id": "f71eebe4-a32b-440e-ad5e-a1de187b9d89",
   "metadata": {},
   "outputs": [],
   "source": [
    "test_data = open(r\"val.txt\")\n",
    "test_texts = []\n",
    "test_labels = []\n",
    "for i in test_data:\n",
    "    j = i.split(\";\")\n",
    "    test_texts.append(j[0])\n",
    "    test_labels.append(j[1].rstrip(\"\\n\"))\n",
    "test_data.close()\n",
    "test_labels = encoder.transform(test_labels)\n",
    "test_labels = to_categorical(test_labels,num_classes=6)\n",
    "test_sequences = tokenizer.texts_to_sequences(test_texts)\n",
    "test_data = pad_sequences(test_sequences,maxlen=32)"
   ]
  },
  {
   "cell_type": "code",
   "execution_count": 10,
   "id": "2926eb59-512a-4de8-914d-28b4083adea3",
   "metadata": {},
   "outputs": [
    {
     "name": "stdout",
     "output_type": "stream",
     "text": [
      "\u001b[1m63/63\u001b[0m \u001b[32m━━━━━━━━━━━━━━━━━━━━\u001b[0m\u001b[37m\u001b[0m \u001b[1m4s\u001b[0m 6ms/step - accuracy: 0.9099 - loss: 0.3134\n",
      "Loss: 0.3566\n",
      "Accuracy: 0.902\n"
     ]
    }
   ],
   "source": [
    "loss,accuracy = model.evaluate(test_data,test_labels)\n",
    "print(\"Loss:\",round(loss,4))\n",
    "print(\"Accuracy:\",round(accuracy,4))"
   ]
  },
  {
   "cell_type": "code",
   "execution_count": 11,
   "id": "f57a585f-a096-47b2-9294-99bf222348e8",
   "metadata": {
    "scrolled": true
   },
   "outputs": [
    {
     "data": {
      "text/plain": [
       "<Axes: title={'center': 'Model Accuracy'}, xlabel='Epoch', ylabel='Accuracy'>"
      ]
     },
     "execution_count": 11,
     "metadata": {},
     "output_type": "execute_result"
    },
    {
     "data": {
      "image/png": "[encoded data removed]",
      "text/plain": [
       "<Figure size 1000x600 with 1 Axes>"
      ]
     },
     "metadata": {},
     "output_type": "display_data"
    },
    {
     "data": {
      "image/png": "[encoded data removed]",
      "text/plain": [
       "<Figure size 1000x600 with 1 Axes>"
      ]
     },
     "metadata": {},
     "output_type": "display_data"
    }
   ],
   "source": [
    "import pandas as pd\n",
    "\n",
    "df_metrics = pd.DataFrame(history.history)\n",
    "df_acc = df_metrics[['accuracy']]\n",
    "df_loss = df_metrics[['loss']]\n",
    "df_loss.plot(title='Model Loss',figsize=(10,6),xlabel='Epoch',ylabel='Loss')\n",
    "df_acc.plot(title='Model Accuracy',figsize=(10,6),xlabel='Epoch',ylabel='Accuracy',color='orange')"
   ]
  },
  {
   "cell_type": "markdown",
   "id": "d9cef6d2-20cf-42b7-86ed-251b5be7ad95",
   "metadata": {},
   "source": [
    "## Manual Testing"
   ]
  },
  {
   "cell_type": "code",
   "execution_count": 113,
   "id": "5e1e9282-367b-463b-b0bd-a3964549865c",
   "metadata": {},
   "outputs": [
    {
     "data": {
      "text/plain": [
       "(1, 32)"
      ]
     },
     "execution_count": 113,
     "metadata": {},
     "output_type": "execute_result"
    }
   ],
   "source": [
    "text = [\"Just watched the sunset, feeling incredibly blessed and thankful for this beautiful life! 🌅✨ #Grateful #Blessed #Sunset\"]\n",
    "text_seq = tokenizer.texts_to_sequences(np.array(text))\n",
    "text_pad = pad_sequences(text_seq,maxlen=32)\n",
    "text_pad.shape"
   ]
  },
  {
   "cell_type": "code",
   "execution_count": 110,
   "id": "9be0949e-d0c3-4208-b75d-bfc9477b3725",
   "metadata": {},
   "outputs": [
    {
     "name": "stdout",
     "output_type": "stream",
     "text": [
      "\u001b[1m1/1\u001b[0m \u001b[32m━━━━━━━━━━━━━━━━━━━━\u001b[0m\u001b[37m\u001b[0m \u001b[1m0s\u001b[0m 18ms/step\n"
     ]
    }
   ],
   "source": [
    "import numpy as np\n",
    "predictions = model.predict(text_pad)\n",
    "predicted = np.argmax(predictions)"
   ]
  },
  {
   "cell_type": "code",
   "execution_count": 111,
   "id": "ae4cf497-9dd4-4a27-abcb-d6e206e5a065",
   "metadata": {},
   "outputs": [
    {
     "name": "stdout",
     "output_type": "stream",
     "text": [
      "Joy\n"
     ]
    }
   ],
   "source": [
    "if predicted == 0:\n",
    "    print(\"Anger\")\n",
    "elif predicted == 1:\n",
    "    print(\"Fear\")\n",
    "elif predicted == 2:\n",
    "    print(\"Joy\")\n",
    "elif predicted == 3:\n",
    "    print(\"Love\")\n",
    "elif predicted == 4:\n",
    "    print(\"Sadness\")\n",
    "elif predicted == 5:\n",
    "    print(\"Surprise,\")"
   ]
  }
 ],
 "metadata": {
  "kernelspec": {
   "display_name": "Python 3 (ipykernel)",
   "language": "python",
   "name": "python3"
  },
  "language_info": {
   "codemirror_mode": {
    "name": "ipython",
    "version": 3
   },
   "file_extension": ".py",
   "mimetype": "text/x-python",
   "name": "python",
   "nbconvert_exporter": "python",
   "pygments_lexer": "ipython3",
   "version": "3.11.9"
  }
 },
 "nbformat": 4,
 "nbformat_minor": 5
}
